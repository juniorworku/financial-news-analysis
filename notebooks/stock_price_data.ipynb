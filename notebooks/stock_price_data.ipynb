{
 "cells": [
  {
   "cell_type": "code",
   "execution_count": 19,
   "metadata": {},
   "outputs": [],
   "source": [
    "# Import necessary libraries\n",
    "import pandas as pd\n",
    "import yfinance as yf"
   ]
  },
  {
   "cell_type": "code",
   "execution_count": 20,
   "metadata": {},
   "outputs": [],
   "source": [
    "# Load the dataset\n",
    "stock_data= pd.read_csv('../data/raw_analyst_ratings.csv')"
   ]
  },
  {
   "cell_type": "code",
   "execution_count": 21,
   "metadata": {},
   "outputs": [],
   "source": [
    "# Prepare the Data\n",
    "stock_data['date'] = pd.to_datetime(stock_data['date'], format='ISO8601')\n"
   ]
  },
  {
   "cell_type": "code",
   "execution_count": 22,
   "metadata": {},
   "outputs": [],
   "source": [
    "# Group the data by stock symbol and aggregate the minimum and maximum dates\n",
    "grouped_data = stock_data.groupby('stock')['date'].agg(['min', 'max'])"
   ]
  },
  {
   "cell_type": "code",
   "execution_count": 23,
   "metadata": {},
   "outputs": [
    {
     "name": "stdout",
     "output_type": "stream",
     "text": [
      "Date Ranges for Each Stock:\n",
      "                            min                       max\n",
      "stock                                                    \n",
      "A     2009-04-29 00:00:00-04:00 2020-06-05 10:30:54-04:00\n",
      "AA    2009-08-10 00:00:00-04:00 2020-06-09 10:52:15-04:00\n",
      "AAC   2010-03-25 00:00:00-04:00 2019-10-25 16:09:59-04:00\n",
      "AADR  2013-03-05 15:42:46-04:00 2013-09-06 15:06:35-04:00\n",
      "AAL   2011-05-16 00:00:00-04:00 2020-06-10 11:21:01-04:00\n",
      "...                         ...                       ...\n",
      "ZTR   2009-08-10 00:00:00-04:00 2020-03-19 10:49:42-04:00\n",
      "ZTS   2013-01-17 00:00:00-04:00 2020-06-11 10:22:31-04:00\n",
      "ZU    2013-11-14 00:00:00-04:00 2020-01-09 14:34:23-04:00\n",
      "ZUMZ  2009-11-16 00:00:00-04:00 2020-06-05 07:24:15-04:00\n",
      "ZX    2011-05-12 00:00:00-04:00 2018-06-15 09:01:12-04:00\n",
      "\n",
      "[6204 rows x 2 columns]\n"
     ]
    }
   ],
   "source": [
    "# Display the date range for each stock\n",
    "print(\"Date Ranges for Each Stock:\")\n",
    "print(grouped_data)"
   ]
  },
  {
   "cell_type": "code",
   "execution_count": null,
   "metadata": {},
   "outputs": [],
   "source": [
    "# Initialize an empty DataFrame to store all stock data\n",
    "all_stock_data = pd.DataFrame()\n",
    "\n",
    "# Loop through each group (stock symbol) in grouped_data\n",
    "for stock_symbol, date_range in grouped_data.iterrows():\n",
    "    start_date = date_range['min']\n",
    "    end_date = date_range['max']\n",
    "    \n",
    "    try:\n",
    "        # Download stock data\n",
    "        stock_data = yf.download(stock_symbol, start=start_date, end=end_date)\n",
    "        \n",
    "        # Add stock symbol as a column in the DataFrame\n",
    "        stock_data['Symbol'] = stock_symbol\n",
    "        \n",
    "        # Append stock data to the DataFrame containing all stock data\n",
    "        all_stock_data = pd.concat([all_stock_data, stock_data])\n",
    "        # Save all stock data to a CSV file\n",
    "        all_stock_data.to_csv('all_stock_data.csv')\n",
    "        \n",
    "        print(\"Stock data for\", stock_symbol, \"downloaded successfully.\")\n",
    "        \n",
    "    except Exception as e:\n",
    "        print(\"Failed to download stock data for\", stock_symbol, \":\", str(e))\n",
    "\n"
   ]
  }
 ],
 "metadata": {
  "language_info": {
   "name": "python"
  }
 },
 "nbformat": 4,
 "nbformat_minor": 2
}
